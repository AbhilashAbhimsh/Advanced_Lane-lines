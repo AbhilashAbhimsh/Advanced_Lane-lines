{
 "cells": [
  {
   "cell_type": "markdown",
   "metadata": {},
   "source": [
    "## 1. Find the camera matrix and distortion Co-efficients"
   ]
  },
  {
   "cell_type": "code",
   "execution_count": 1,
   "metadata": {},
   "outputs": [],
   "source": [
    "# import essential modules\n",
    "import numpy as np\n",
    "import matplotlib.image as mpimg\n",
    "import matplotlib.pyplot as plt\n",
    "import cv2"
   ]
  },
  {
   "cell_type": "code",
   "execution_count": 2,
   "metadata": {},
   "outputs": [],
   "source": [
    "import os\n",
    "%matplotlib qt\n",
    "path_calibration = \"camera_cal/\"\n",
    "calibration_images = os.listdir(path_calibration)\n",
    "\n",
    "obj_point_list = []\n",
    "img_point_list = []\n",
    "\n",
    "#Getting Objectpoints \n",
    "obj_points = np.zeros((9*6,3), np.float32)\n",
    "obj_points[:,:2] = np.mgrid[0:9,0:6].T.reshape(-1,2)\n",
    "#iterating through all images in the folder \n",
    "for image in calibration_images:\n",
    "    # generate the actual path of the image\n",
    "    img_path = os.path.join(path_calibration, image)\n",
    "    img = mpimg.imread(img_path)\n",
    "    # convert the image to gray scale as the findChessboardCorners takes only gray scale images\n",
    "    gray = cv2.cvtColor(img, cv2.COLOR_RGB2GRAY)\n",
    "    ret, corners = cv2.findChessboardCorners(gray,(9,6), None)\n",
    "    if ret:\n",
    "        obj_point_list.append(obj_points)\n",
    "        img_point_list.append(corners)\n",
    "\n",
    "# get the camera matrix and distorted matrix\n",
    "ret, mtx, dist, rvec, tvec = cv2.calibrateCamera(obj_point_list, img_point_list, gray.shape[::-1], None, None)\n",
    "\n"
   ]
  }
 ],
 "metadata": {
  "kernelspec": {
   "display_name": "Python 3",
   "language": "python",
   "name": "python3"
  },
  "language_info": {
   "codemirror_mode": {
    "name": "ipython",
    "version": 3
   },
   "file_extension": ".py",
   "mimetype": "text/x-python",
   "name": "python",
   "nbconvert_exporter": "python",
   "pygments_lexer": "ipython3",
   "version": "3.6.9"
  }
 },
 "nbformat": 4,
 "nbformat_minor": 2
}
